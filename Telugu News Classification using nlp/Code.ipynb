{
 "cells": [
  {
   "cell_type": "code",
   "execution_count": 1,
   "id": "f4ec78f5",
   "metadata": {},
   "outputs": [],
   "source": [
    "import pandas as pd\n",
    "import matplotlib.pyplot as plt\n",
    "import numpy as np\n",
    "import re\n",
    "import string\n",
    "from sklearn.model_selection import train_test_split\n",
    "import seaborn as sns\n",
    "import os"
   ]
  },
  {
   "cell_type": "code",
   "execution_count": 2,
   "id": "c9a7a743",
   "metadata": {},
   "outputs": [
    {
     "data": {
      "text/html": [
       "<div>\n",
       "<style scoped>\n",
       "    .dataframe tbody tr th:only-of-type {\n",
       "        vertical-align: middle;\n",
       "    }\n",
       "\n",
       "    .dataframe tbody tr th {\n",
       "        vertical-align: top;\n",
       "    }\n",
       "\n",
       "    .dataframe thead th {\n",
       "        text-align: right;\n",
       "    }\n",
       "</style>\n",
       "<table border=\"1\" class=\"dataframe\">\n",
       "  <thead>\n",
       "    <tr style=\"text-align: right;\">\n",
       "      <th></th>\n",
       "      <th>SNo</th>\n",
       "      <th>date</th>\n",
       "      <th>heading</th>\n",
       "      <th>body</th>\n",
       "      <th>topic</th>\n",
       "    </tr>\n",
       "  </thead>\n",
       "  <tbody>\n",
       "    <tr>\n",
       "      <th>0</th>\n",
       "      <td>414</td>\n",
       "      <td>11-05-2017 00:39:13</td>\n",
       "      <td>ఐడిబిఐపై ఆర్‌బిఐ నజర్‌</td>\n",
       "      <td>భారీ ఎత్తున మొండిబకాయిలు పెరిగిపోవడంతో ఐడిబిఐ ...</td>\n",
       "      <td>business</td>\n",
       "    </tr>\n",
       "    <tr>\n",
       "      <th>1</th>\n",
       "      <td>2668</td>\n",
       "      <td>12-06-2017 00:40:32</td>\n",
       "      <td>బ్యాంకింగ్‌ చీఫ్‌లతో నేడు జైట్లీ భేటీ</td>\n",
       "      <td>న్యూఢిల్లీ : ఆర్థిక మంత్రి అరుణ్‌ జైట్లీ సోమవా...</td>\n",
       "      <td>business</td>\n",
       "    </tr>\n",
       "    <tr>\n",
       "      <th>2</th>\n",
       "      <td>19923</td>\n",
       "      <td>19-01-2017 19:51:31</td>\n",
       "      <td>కీలక వికెట్ తీసిన జడేజా..</td>\n",
       "      <td>కటక్: ఇంగ్లండ్‌తో జరుగుతున్న సెకండ్ వన్డే మ్యా...</td>\n",
       "      <td>sports</td>\n",
       "    </tr>\n",
       "    <tr>\n",
       "      <th>3</th>\n",
       "      <td>15762</td>\n",
       "      <td>23-11-2017 17:29:04</td>\n",
       "      <td>మరో రెచ్చగొట్టే చర్యకు దిగిన పాకిస్థాన్</td>\n",
       "      <td>\\nఇస్లామాబాద్ : పాకిస్థాన్ అంతర్జాతీయ ఉగ్రవాది...</td>\n",
       "      <td>nation</td>\n",
       "    </tr>\n",
       "    <tr>\n",
       "      <th>4</th>\n",
       "      <td>8624</td>\n",
       "      <td>03-04-2017 15:48:23</td>\n",
       "      <td>గోవాలో కొడుకుతో కలిసి అల్లు అర్జున్ స్విమ్మింగ్!</td>\n",
       "      <td>స్టార్‌ హీరోగా వరుస సినిమాలతో బిజీగా ఉన్నప్పటి...</td>\n",
       "      <td>entertainment</td>\n",
       "    </tr>\n",
       "    <tr>\n",
       "      <th>...</th>\n",
       "      <td>...</td>\n",
       "      <td>...</td>\n",
       "      <td>...</td>\n",
       "      <td>...</td>\n",
       "      <td>...</td>\n",
       "    </tr>\n",
       "    <tr>\n",
       "      <th>17307</th>\n",
       "      <td>10296</td>\n",
       "      <td>02-02-2017 12:18:11</td>\n",
       "      <td>చిరు,ఎన్టీఆర్ వల్ల కాజల్‌కు దక్కిందేమిటి..?</td>\n",
       "      <td>ఇండస్ట్రీలో హీరోయిన్‌గా రాణించాలంటే కేవలం గ్లా...</td>\n",
       "      <td>entertainment</td>\n",
       "    </tr>\n",
       "    <tr>\n",
       "      <th>17308</th>\n",
       "      <td>13641</td>\n",
       "      <td>20-12-2017 04:16:32</td>\n",
       "      <td>హిమాచల్‌ సీఎం రేసులో నడ్డా, జైరామ్‌</td>\n",
       "      <td>షిమ్లా, డిసెంబరు 19: హిమాచల్‌ ప్రదేశ్‌ అసెంబ్ల...</td>\n",
       "      <td>nation</td>\n",
       "    </tr>\n",
       "    <tr>\n",
       "      <th>17309</th>\n",
       "      <td>17288</td>\n",
       "      <td>20-05-2017 03:00:10</td>\n",
       "      <td>సతతహరిత విప్లవం అవసరం</td>\n",
       "      <td>2022 నాటికి  రైతుల ఆదాయం రెట్టింపు చేయడానికి క...</td>\n",
       "      <td>nation</td>\n",
       "    </tr>\n",
       "    <tr>\n",
       "      <th>17310</th>\n",
       "      <td>20882</td>\n",
       "      <td>13-06-2017 04:30:36</td>\n",
       "      <td>ఇంగ్లండ్‌ జెర్సీలో వార్న్‌..!</td>\n",
       "      <td>పందెంలో ఓడిన షేనలండన్: ఆస్ట్రేలియా స్పిన్ లెజె...</td>\n",
       "      <td>sports</td>\n",
       "    </tr>\n",
       "    <tr>\n",
       "      <th>17311</th>\n",
       "      <td>13905</td>\n",
       "      <td>17-12-2017 02:12:54</td>\n",
       "      <td>ఆ శక్తి రాహుల్‌కు ఉంది!</td>\n",
       "      <td>ధైర్యంగా పార్టీని నడపగలరు దేశం సవాళ్లను ఎదుర్...</td>\n",
       "      <td>nation</td>\n",
       "    </tr>\n",
       "  </tbody>\n",
       "</table>\n",
       "<p>17312 rows × 5 columns</p>\n",
       "</div>"
      ],
      "text/plain": [
       "         SNo                 date  \\\n",
       "0        414  11-05-2017 00:39:13   \n",
       "1       2668  12-06-2017 00:40:32   \n",
       "2      19923  19-01-2017 19:51:31   \n",
       "3      15762  23-11-2017 17:29:04   \n",
       "4       8624  03-04-2017 15:48:23   \n",
       "...      ...                  ...   \n",
       "17307  10296  02-02-2017 12:18:11   \n",
       "17308  13641  20-12-2017 04:16:32   \n",
       "17309  17288  20-05-2017 03:00:10   \n",
       "17310  20882  13-06-2017 04:30:36   \n",
       "17311  13905  17-12-2017 02:12:54   \n",
       "\n",
       "                                                heading  \\\n",
       "0                                ఐడిబిఐపై ఆర్‌బిఐ నజర్‌   \n",
       "1                 బ్యాంకింగ్‌ చీఫ్‌లతో నేడు జైట్లీ భేటీ   \n",
       "2                             కీలక వికెట్ తీసిన జడేజా..   \n",
       "3               మరో రెచ్చగొట్టే చర్యకు దిగిన పాకిస్థాన్   \n",
       "4      గోవాలో కొడుకుతో కలిసి అల్లు అర్జున్ స్విమ్మింగ్!   \n",
       "...                                                 ...   \n",
       "17307       చిరు,ఎన్టీఆర్ వల్ల కాజల్‌కు దక్కిందేమిటి..?   \n",
       "17308               హిమాచల్‌ సీఎం రేసులో నడ్డా, జైరామ్‌   \n",
       "17309                             సతతహరిత విప్లవం అవసరం   \n",
       "17310                     ఇంగ్లండ్‌ జెర్సీలో వార్న్‌..!   \n",
       "17311                           ఆ శక్తి రాహుల్‌కు ఉంది!   \n",
       "\n",
       "                                                    body          topic  \n",
       "0      భారీ ఎత్తున మొండిబకాయిలు పెరిగిపోవడంతో ఐడిబిఐ ...       business  \n",
       "1      న్యూఢిల్లీ : ఆర్థిక మంత్రి అరుణ్‌ జైట్లీ సోమవా...       business  \n",
       "2      కటక్: ఇంగ్లండ్‌తో జరుగుతున్న సెకండ్ వన్డే మ్యా...         sports  \n",
       "3      \\nఇస్లామాబాద్ : పాకిస్థాన్ అంతర్జాతీయ ఉగ్రవాది...         nation  \n",
       "4      స్టార్‌ హీరోగా వరుస సినిమాలతో బిజీగా ఉన్నప్పటి...  entertainment  \n",
       "...                                                  ...            ...  \n",
       "17307  ఇండస్ట్రీలో హీరోయిన్‌గా రాణించాలంటే కేవలం గ్లా...  entertainment  \n",
       "17308  షిమ్లా, డిసెంబరు 19: హిమాచల్‌ ప్రదేశ్‌ అసెంబ్ల...         nation  \n",
       "17309  2022 నాటికి  రైతుల ఆదాయం రెట్టింపు చేయడానికి క...         nation  \n",
       "17310  పందెంలో ఓడిన షేనలండన్: ఆస్ట్రేలియా స్పిన్ లెజె...         sports  \n",
       "17311   ధైర్యంగా పార్టీని నడపగలరు దేశం సవాళ్లను ఎదుర్...         nation  \n",
       "\n",
       "[17312 rows x 5 columns]"
      ]
     },
     "execution_count": 2,
     "metadata": {},
     "output_type": "execute_result"
    }
   ],
   "source": [
    "train_path = \"train_telugu_news.csv\"\n",
    "\n",
    "telugu_news_df = pd.read_csv(train_path)\n",
    "telugu_news_df\n"
   ]
  },
  {
   "cell_type": "code",
   "execution_count": 3,
   "id": "0506c086",
   "metadata": {},
   "outputs": [
    {
     "data": {
      "text/plain": [
       "SNo        0\n",
       "date       0\n",
       "heading    1\n",
       "body       0\n",
       "topic      0\n",
       "dtype: int64"
      ]
     },
     "execution_count": 3,
     "metadata": {},
     "output_type": "execute_result"
    }
   ],
   "source": [
    "telugu_news_df.isna().sum()"
   ]
  },
  {
   "cell_type": "code",
   "execution_count": 4,
   "id": "a2d43731",
   "metadata": {},
   "outputs": [
    {
     "data": {
      "text/plain": [
       "array(['business', 'sports', 'nation', 'entertainment', 'editorial'],\n",
       "      dtype=object)"
      ]
     },
     "execution_count": 4,
     "metadata": {},
     "output_type": "execute_result"
    }
   ],
   "source": [
    "telugu_news_df[\"topic\"].unique()\n"
   ]
  },
  {
   "cell_type": "code",
   "execution_count": 7,
   "id": "73452dde",
   "metadata": {},
   "outputs": [
    {
     "data": {
      "text/plain": [
       "{'business': 0, 'sports': 1, 'nation': 2, 'entertainment': 3, 'editorial': 4}"
      ]
     },
     "execution_count": 7,
     "metadata": {},
     "output_type": "execute_result"
    }
   ],
   "source": [
    "topic_dic = {}\n",
    "c = 0\n",
    "for un in telugu_news_df[\"topic\"].unique():\n",
    "    if un not in topic_dic:\n",
    "        topic_dic[un] = c\n",
    "        c += 1\n",
    "        \n",
    "topic_dic"
   ]
  },
  {
   "cell_type": "code",
   "execution_count": 10,
   "id": "37839989",
   "metadata": {},
   "outputs": [],
   "source": [
    "inv_topic_dict = {v: k for k, v in topic_dic.items()}"
   ]
  },
  {
   "cell_type": "code",
   "execution_count": 11,
   "id": "b3e7d77a",
   "metadata": {},
   "outputs": [
    {
     "ename": "KeyError",
     "evalue": "'business'",
     "output_type": "error",
     "traceback": [
      "\u001b[1;31m---------------------------------------------------------------------------\u001b[0m",
      "\u001b[1;31mKeyError\u001b[0m                                  Traceback (most recent call last)",
      "Cell \u001b[1;32mIn[11], line 18\u001b[0m\n\u001b[0;32m     16\u001b[0m labels \u001b[38;5;241m=\u001b[39m []\n\u001b[0;32m     17\u001b[0m \u001b[38;5;28;01mfor\u001b[39;00m c \u001b[38;5;129;01min\u001b[39;00m clables:\n\u001b[1;32m---> 18\u001b[0m     labels\u001b[38;5;241m.\u001b[39mappend(\u001b[43minv_topic_dict\u001b[49m\u001b[43m[\u001b[49m\u001b[43mc\u001b[49m\u001b[43m]\u001b[49m)\n\u001b[0;32m     20\u001b[0m plt\u001b[38;5;241m.\u001b[39mfigure(figsize\u001b[38;5;241m=\u001b[39m(\u001b[38;5;241m10\u001b[39m,\u001b[38;5;241m8\u001b[39m))\n\u001b[0;32m     21\u001b[0m plt\u001b[38;5;241m.\u001b[39mtitle(\u001b[38;5;124m\"\u001b[39m\u001b[38;5;124mDistribution of the telugu news toics\u001b[39m\u001b[38;5;124m\"\u001b[39m, fontsize \u001b[38;5;241m=\u001b[39m \u001b[38;5;241m14.5\u001b[39m)\n",
      "\u001b[1;31mKeyError\u001b[0m: 'business'"
     ]
    }
   ],
   "source": [
    "\n",
    "def get_count(df):\n",
    "    \n",
    "    unvals = list(df.unique())\n",
    "    op = [0]*len(unvals)\n",
    "    \n",
    "    i = 0\n",
    "    for un in unvals:\n",
    "        op[i] = df[df == un].shape[0]\n",
    "        i += 1\n",
    "        \n",
    "    return [list(unvals),op]\n",
    "\n",
    "cont = get_count(telugu_news_df[\"topic\"])\n",
    "clables = cont[0]\n",
    "\n",
    "labels = []\n",
    "for c in clables:\n",
    "    labels.append(inv_topic_dict[c])\n",
    "\n",
    "plt.figure(figsize=(10,8))\n",
    "plt.title(\"Distribution of the telugu news toics\", fontsize = 14.5)\n",
    "plt.style.use('seaborn-colorblind')\n",
    "plt.pie(np.array(cont[1]), labels=labels, autopct='%1.2f%%', shadow=True)\n",
    "plt.show()"
   ]
  },
  {
   "cell_type": "code",
   "execution_count": null,
   "id": "edeb4b0d",
   "metadata": {},
   "outputs": [],
   "source": []
  }
 ],
 "metadata": {
  "kernelspec": {
   "display_name": "Python 3 (ipykernel)",
   "language": "python",
   "name": "python3"
  },
  "language_info": {
   "codemirror_mode": {
    "name": "ipython",
    "version": 3
   },
   "file_extension": ".py",
   "mimetype": "text/x-python",
   "name": "python",
   "nbconvert_exporter": "python",
   "pygments_lexer": "ipython3",
   "version": "3.9.12"
  }
 },
 "nbformat": 4,
 "nbformat_minor": 5
}
